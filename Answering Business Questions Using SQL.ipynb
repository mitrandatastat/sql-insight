{
 "cells": [
  {
   "cell_type": "code",
   "execution_count": 1,
   "metadata": {
    "collapsed": false
   },
   "outputs": [],
   "source": [
    "import sqlite3\n",
    "import pandas as pd \n",
    "import numpy as np\n",
    "import math\n",
    "from numpy import arange\n",
    "from matplotlib import cm\n",
    "from scipy.interpolate import spline\n",
    "import matplotlib.pyplot as plt\n",
    "%matplotlib inline"
   ]
  },
  {
   "cell_type": "markdown",
   "metadata": {},
   "source": [
    "### Define a function to run a query"
   ]
  },
  {
   "cell_type": "code",
   "execution_count": 2,
   "metadata": {
    "collapsed": false
   },
   "outputs": [],
   "source": [
    "def run_query(qry):\n",
    "    with sqlite3.connect(\"chinook.db\") as conn:\n",
    "        return pd.read_sql(qry, conn)"
   ]
  },
  {
   "cell_type": "markdown",
   "metadata": {},
   "source": [
    "### Define a function to execute a command"
   ]
  },
  {
   "cell_type": "code",
   "execution_count": 3,
   "metadata": {
    "collapsed": true
   },
   "outputs": [],
   "source": [
    "def run_command(qry):\n",
    "    with sqlite3.connect(\"chinook.db\") as conn:\n",
    "        conn.isolation_level = None\n",
    "        conn.execute(qry)"
   ]
  },
  {
   "cell_type": "markdown",
   "metadata": {},
   "source": [
    "### Define a function to show tables in the database"
   ]
  },
  {
   "cell_type": "code",
   "execution_count": 4,
   "metadata": {
    "collapsed": true
   },
   "outputs": [],
   "source": [
    "def show_tables(demand):\n",
    "    df = run_query(demand)\n",
    "    print(df)"
   ]
  },
  {
   "cell_type": "markdown",
   "metadata": {},
   "source": [
    "### Define a query"
   ]
  },
  {
   "cell_type": "code",
   "execution_count": 5,
   "metadata": {
    "collapsed": false
   },
   "outputs": [
    {
     "name": "stdout",
     "output_type": "stream",
     "text": [
      "               name   type\n",
      "0             album  table\n",
      "1            artist  table\n",
      "2          customer  table\n",
      "3          employee  table\n",
      "4             genre  table\n",
      "5           invoice  table\n",
      "6      invoice_line  table\n",
      "7        media_type  table\n",
      "8          playlist  table\n",
      "9    playlist_track  table\n",
      "10            track  table\n",
      "11           inv_dt   view\n",
      "12    track_invoice   view\n",
      "13  country_revised   view\n",
      "14  tracks_invoiced   view\n"
     ]
    }
   ],
   "source": [
    "querry = \"SELECT name, type FROM sqlite_master WHERE type IN ('view', 'table');\"\n",
    "show_tables(querry)"
   ]
  },
  {
   "cell_type": "markdown",
   "metadata": {},
   "source": [
    "### Setting up a query to get total number of tracks sold per genre"
   ]
  },
  {
   "cell_type": "code",
   "execution_count": 6,
   "metadata": {
    "collapsed": false
   },
   "outputs": [
    {
     "data": {
      "text/html": [
       "<div>\n",
       "<style scoped>\n",
       "    .dataframe tbody tr th:only-of-type {\n",
       "        vertical-align: middle;\n",
       "    }\n",
       "\n",
       "    .dataframe tbody tr th {\n",
       "        vertical-align: top;\n",
       "    }\n",
       "\n",
       "    .dataframe thead th {\n",
       "        text-align: right;\n",
       "    }\n",
       "</style>\n",
       "<table border=\"1\" class=\"dataframe\">\n",
       "  <thead>\n",
       "    <tr style=\"text-align: right;\">\n",
       "      <th></th>\n",
       "      <th>name</th>\n",
       "      <th>num_of_tracks</th>\n",
       "      <th>percentage</th>\n",
       "    </tr>\n",
       "  </thead>\n",
       "  <tbody>\n",
       "    <tr>\n",
       "      <th>0</th>\n",
       "      <td>Rock</td>\n",
       "      <td>1297</td>\n",
       "      <td>37.025407</td>\n",
       "    </tr>\n",
       "    <tr>\n",
       "      <th>1</th>\n",
       "      <td>Latin</td>\n",
       "      <td>579</td>\n",
       "      <td>16.528690</td>\n",
       "    </tr>\n",
       "    <tr>\n",
       "      <th>2</th>\n",
       "      <td>Metal</td>\n",
       "      <td>374</td>\n",
       "      <td>10.676563</td>\n",
       "    </tr>\n",
       "    <tr>\n",
       "      <th>3</th>\n",
       "      <td>Alternative &amp; Punk</td>\n",
       "      <td>332</td>\n",
       "      <td>9.477591</td>\n",
       "    </tr>\n",
       "    <tr>\n",
       "      <th>4</th>\n",
       "      <td>Jazz</td>\n",
       "      <td>130</td>\n",
       "      <td>3.711105</td>\n",
       "    </tr>\n",
       "    <tr>\n",
       "      <th>5</th>\n",
       "      <td>TV Shows</td>\n",
       "      <td>93</td>\n",
       "      <td>2.654867</td>\n",
       "    </tr>\n",
       "    <tr>\n",
       "      <th>6</th>\n",
       "      <td>Blues</td>\n",
       "      <td>81</td>\n",
       "      <td>2.312304</td>\n",
       "    </tr>\n",
       "    <tr>\n",
       "      <th>7</th>\n",
       "      <td>Classical</td>\n",
       "      <td>74</td>\n",
       "      <td>2.112475</td>\n",
       "    </tr>\n",
       "    <tr>\n",
       "      <th>8</th>\n",
       "      <td>Drama</td>\n",
       "      <td>64</td>\n",
       "      <td>1.827005</td>\n",
       "    </tr>\n",
       "    <tr>\n",
       "      <th>9</th>\n",
       "      <td>R&amp;B/Soul</td>\n",
       "      <td>61</td>\n",
       "      <td>1.741365</td>\n",
       "    </tr>\n",
       "    <tr>\n",
       "      <th>10</th>\n",
       "      <td>Reggae</td>\n",
       "      <td>58</td>\n",
       "      <td>1.655724</td>\n",
       "    </tr>\n",
       "    <tr>\n",
       "      <th>11</th>\n",
       "      <td>Pop</td>\n",
       "      <td>48</td>\n",
       "      <td>1.370254</td>\n",
       "    </tr>\n",
       "    <tr>\n",
       "      <th>12</th>\n",
       "      <td>Soundtrack</td>\n",
       "      <td>43</td>\n",
       "      <td>1.227519</td>\n",
       "    </tr>\n",
       "    <tr>\n",
       "      <th>13</th>\n",
       "      <td>Alternative</td>\n",
       "      <td>40</td>\n",
       "      <td>1.141878</td>\n",
       "    </tr>\n",
       "    <tr>\n",
       "      <th>14</th>\n",
       "      <td>Hip Hop/Rap</td>\n",
       "      <td>35</td>\n",
       "      <td>0.999144</td>\n",
       "    </tr>\n",
       "    <tr>\n",
       "      <th>15</th>\n",
       "      <td>Electronica/Dance</td>\n",
       "      <td>30</td>\n",
       "      <td>0.856409</td>\n",
       "    </tr>\n",
       "    <tr>\n",
       "      <th>16</th>\n",
       "      <td>Heavy Metal</td>\n",
       "      <td>28</td>\n",
       "      <td>0.799315</td>\n",
       "    </tr>\n",
       "    <tr>\n",
       "      <th>17</th>\n",
       "      <td>World</td>\n",
       "      <td>28</td>\n",
       "      <td>0.799315</td>\n",
       "    </tr>\n",
       "    <tr>\n",
       "      <th>18</th>\n",
       "      <td>Sci Fi &amp; Fantasy</td>\n",
       "      <td>26</td>\n",
       "      <td>0.742221</td>\n",
       "    </tr>\n",
       "    <tr>\n",
       "      <th>19</th>\n",
       "      <td>Easy Listening</td>\n",
       "      <td>24</td>\n",
       "      <td>0.685127</td>\n",
       "    </tr>\n",
       "    <tr>\n",
       "      <th>20</th>\n",
       "      <td>Comedy</td>\n",
       "      <td>17</td>\n",
       "      <td>0.485298</td>\n",
       "    </tr>\n",
       "    <tr>\n",
       "      <th>21</th>\n",
       "      <td>Bossa Nova</td>\n",
       "      <td>15</td>\n",
       "      <td>0.428204</td>\n",
       "    </tr>\n",
       "    <tr>\n",
       "      <th>22</th>\n",
       "      <td>Science Fiction</td>\n",
       "      <td>13</td>\n",
       "      <td>0.371110</td>\n",
       "    </tr>\n",
       "    <tr>\n",
       "      <th>23</th>\n",
       "      <td>Rock And Roll</td>\n",
       "      <td>12</td>\n",
       "      <td>0.342564</td>\n",
       "    </tr>\n",
       "    <tr>\n",
       "      <th>24</th>\n",
       "      <td>Opera</td>\n",
       "      <td>1</td>\n",
       "      <td>0.028547</td>\n",
       "    </tr>\n",
       "  </tbody>\n",
       "</table>\n",
       "</div>"
      ],
      "text/plain": [
       "                  name  num_of_tracks  percentage\n",
       "0                 Rock           1297   37.025407\n",
       "1                Latin            579   16.528690\n",
       "2                Metal            374   10.676563\n",
       "3   Alternative & Punk            332    9.477591\n",
       "4                 Jazz            130    3.711105\n",
       "5             TV Shows             93    2.654867\n",
       "6                Blues             81    2.312304\n",
       "7            Classical             74    2.112475\n",
       "8                Drama             64    1.827005\n",
       "9             R&B/Soul             61    1.741365\n",
       "10              Reggae             58    1.655724\n",
       "11                 Pop             48    1.370254\n",
       "12          Soundtrack             43    1.227519\n",
       "13         Alternative             40    1.141878\n",
       "14         Hip Hop/Rap             35    0.999144\n",
       "15   Electronica/Dance             30    0.856409\n",
       "16         Heavy Metal             28    0.799315\n",
       "17               World             28    0.799315\n",
       "18    Sci Fi & Fantasy             26    0.742221\n",
       "19      Easy Listening             24    0.685127\n",
       "20              Comedy             17    0.485298\n",
       "21          Bossa Nova             15    0.428204\n",
       "22     Science Fiction             13    0.371110\n",
       "23       Rock And Roll             12    0.342564\n",
       "24               Opera              1    0.028547"
      ]
     },
     "execution_count": 6,
     "metadata": {},
     "output_type": "execute_result"
    }
   ],
   "source": [
    "each_genre = '''\n",
    "\n",
    "SELECT \n",
    "    ge.name, \n",
    "    COUNT(*) num_of_tracks, \n",
    "    CAST(COUNT(*) AS Float)*100/(SELECT COUNT(*) FROM track) percentage \n",
    "FROM track tr \n",
    "INNER JOIN genre ge ON ge.genre_id == tr.genre_id \n",
    "GROUP BY 1 \n",
    "ORDER BY 2 DESC;\n",
    "'''\n",
    "genre_df = run_query(each_genre)\n",
    "genre_df"
   ]
  },
  {
   "cell_type": "markdown",
   "metadata": {},
   "source": [
    "### Generate graph showing sale of each genre (absolute numbers)"
   ]
  },
  {
   "cell_type": "code",
   "execution_count": 7,
   "metadata": {
    "collapsed": false,
    "scrolled": true
   },
   "outputs": [
    {
     "data": {
      "text/plain": [
       "<matplotlib.text.Text at 0x7f61020cb860>"
      ]
     },
     "execution_count": 7,
     "metadata": {},
     "output_type": "execute_result"
    },
    {
     "data": {
      "image/png": "[encoded data removed]",
      "text/plain": [
       "<matplotlib.figure.Figure at 0x7f6102091550>"
      ]
     },
     "metadata": {},
     "output_type": "display_data"
    }
   ],
   "source": [
    "# Preparing bar chart values\n",
    "bar_positions = range(25)\n",
    "bar_heights = genre_df[\"num_of_tracks\"]\n",
    "\n",
    "# Develop color palette for bars\n",
    "bar_colors = cm.hsv( bar_heights / float(max(bar_heights)))\n",
    "\n",
    "# Develop color bar chart\n",
    "plt.bar(bar_positions, bar_heights, align=\"center\", color=bar_colors, tick_label=genre_df[\"name\"])\n",
    "plt.xticks(rotation=90)\n",
    "plt.xlim(-1,25)\n",
    "plt.ylim(0,1400)\n",
    "plt.xlabel(\"Name of Genre\")\n",
    "plt.ylabel(\"Number of Tracks Sold\")\n",
    "plt.title(\"Sale of Each Genre\")"
   ]
  },
  {
   "cell_type": "markdown",
   "metadata": {},
   "source": [
    "### Generate graph showing proportion of each genre sold"
   ]
  },
  {
   "cell_type": "code",
   "execution_count": 8,
   "metadata": {
    "collapsed": false
   },
   "outputs": [
    {
     "data": {
      "text/plain": [
       "<matplotlib.text.Text at 0x7f60fff18c88>"
      ]
     },
     "execution_count": 8,
     "metadata": {},
     "output_type": "execute_result"
    },
    {
     "data": {
      "image/png": "[encoded data removed]",
      "text/plain": [
       "<matplotlib.figure.Figure at 0x7f617c733898>"
      ]
     },
     "metadata": {},
     "output_type": "display_data"
    }
   ],
   "source": [
    "# Preparing bar chart values\n",
    "bar_positions = range(25)\n",
    "bar_heights = genre_df[\"percentage\"].sort_values()\n",
    "\n",
    "# Develop color palette for bars\n",
    "bar_colors = cm.hsv(bar_heights / float(np.var(bar_heights)))\n",
    "ticks = genre_df.sort_values(by='percentage', ascending=True)['name']\n",
    "\n",
    "# Develop color bar chart\n",
    "plt.bar(bar_positions, bar_heights, align=\"center\", color=bar_colors, tick_label=ticks)\n",
    "plt.xticks(rotation=90)\n",
    "plt.xlim(-1,25)\n",
    "plt.ylim(0,40)\n",
    "plt.xlabel(\"Name of Genre\")\n",
    "plt.ylabel(\"Percent of Total Tracks Sold\")\n",
    "plt.title(\"Proportion of Each Genre Sold\")"
   ]
  },
  {
   "cell_type": "markdown",
   "metadata": {},
   "source": [
    "### Finding three most saleble artist for top 3 highest sold genre"
   ]
  },
  {
   "cell_type": "code",
   "execution_count": 9,
   "metadata": {
    "collapsed": false
   },
   "outputs": [
    {
     "data": {
      "text/html": [
       "<div>\n",
       "<style scoped>\n",
       "    .dataframe tbody tr th:only-of-type {\n",
       "        vertical-align: middle;\n",
       "    }\n",
       "\n",
       "    .dataframe tbody tr th {\n",
       "        vertical-align: top;\n",
       "    }\n",
       "\n",
       "    .dataframe thead th {\n",
       "        text-align: right;\n",
       "    }\n",
       "</style>\n",
       "<table border=\"1\" class=\"dataframe\">\n",
       "  <thead>\n",
       "    <tr style=\"text-align: right;\">\n",
       "      <th></th>\n",
       "      <th>genre_name</th>\n",
       "      <th>artist_name</th>\n",
       "      <th>tracks_sold_genre</th>\n",
       "    </tr>\n",
       "  </thead>\n",
       "  <tbody>\n",
       "    <tr>\n",
       "      <th>0</th>\n",
       "      <td>Rock</td>\n",
       "      <td>The Posies</td>\n",
       "      <td>2635</td>\n",
       "    </tr>\n",
       "    <tr>\n",
       "      <th>1</th>\n",
       "      <td>Metal</td>\n",
       "      <td>Lenny Kravitz</td>\n",
       "      <td>619</td>\n",
       "    </tr>\n",
       "    <tr>\n",
       "      <th>2</th>\n",
       "      <td>Latin</td>\n",
       "      <td>Luciana Souza/Romero Lubambo</td>\n",
       "      <td>167</td>\n",
       "    </tr>\n",
       "  </tbody>\n",
       "</table>\n",
       "</div>"
      ],
      "text/plain": [
       "  genre_name                   artist_name  tracks_sold_genre\n",
       "0       Rock                    The Posies               2635\n",
       "1      Metal                 Lenny Kravitz                619\n",
       "2      Latin  Luciana Souza/Romero Lubambo                167"
      ]
     },
     "execution_count": 9,
     "metadata": {},
     "output_type": "execute_result"
    }
   ],
   "source": [
    "artist_select = '''\n",
    "SELECT \n",
    "    ge.name genre_name, \n",
    "    sq.art_name artist_name, \n",
    "    count(sq.track_il_id) tracks_sold_genre \n",
    "\n",
    "FROM genre ge \n",
    "INNER JOIN \n",
    "    (\n",
    "    SELECT \n",
    "        tr.genre_id genre_id,\n",
    "        ar.name art_name, \n",
    "        tr.name track_name,\n",
    "        il.track_id track_il_id\n",
    "    FROM track tr \n",
    "    INNER JOIN album ab ON ab.album_id = tr.album_id \n",
    "    INNER JOIN artist ar ON ab.artist_id = ar.artist_id\n",
    "    INNER JOIN invoice_line il ON il.track_id = tr.track_id\n",
    "    ) sq \n",
    "ON ge.genre_id = sq.genre_id \n",
    "WHERE genre_name IN ('Rock', 'Latin', 'Metal') \n",
    "GROUP BY 1 \n",
    "ORDER BY 3 DESC \n",
    "LIMIT 3;\n",
    "'''\n",
    "\n",
    "artist_df = run_query(artist_select)\n",
    "artist_df"
   ]
  },
  {
   "cell_type": "markdown",
   "metadata": {},
   "source": [
    "### Purchase recommendation for the three most saleble artists"
   ]
  },
  {
   "cell_type": "raw",
   "metadata": {},
   "source": [
    "Based on the results of the data visualization, we can recommend album for a top artist from each of the top three highest selling genre:\n",
    "\n",
    "(1) The Posies\n",
    "(2) Lenny Kravitz\n",
    "(3) Luciana Souza/Romero Lubambo"
   ]
  },
  {
   "cell_type": "markdown",
   "metadata": {},
   "source": [
    "### Finding three most saleble artist based on individual sale volume"
   ]
  },
  {
   "cell_type": "code",
   "execution_count": 10,
   "metadata": {
    "collapsed": false
   },
   "outputs": [
    {
     "data": {
      "text/html": [
       "<div>\n",
       "<style scoped>\n",
       "    .dataframe tbody tr th:only-of-type {\n",
       "        vertical-align: middle;\n",
       "    }\n",
       "\n",
       "    .dataframe tbody tr th {\n",
       "        vertical-align: top;\n",
       "    }\n",
       "\n",
       "    .dataframe thead th {\n",
       "        text-align: right;\n",
       "    }\n",
       "</style>\n",
       "<table border=\"1\" class=\"dataframe\">\n",
       "  <thead>\n",
       "    <tr style=\"text-align: right;\">\n",
       "      <th></th>\n",
       "      <th>track_name</th>\n",
       "      <th>artist_name</th>\n",
       "      <th>genre_name</th>\n",
       "      <th>num_indi_tracks_sold</th>\n",
       "    </tr>\n",
       "  </thead>\n",
       "  <tbody>\n",
       "    <tr>\n",
       "      <th>0</th>\n",
       "      <td>War Pigs</td>\n",
       "      <td>Cake</td>\n",
       "      <td>Alternative</td>\n",
       "      <td>33</td>\n",
       "    </tr>\n",
       "    <tr>\n",
       "      <th>1</th>\n",
       "      <td>Are You Experienced?</td>\n",
       "      <td>Jimi Hendrix</td>\n",
       "      <td>Rock</td>\n",
       "      <td>14</td>\n",
       "    </tr>\n",
       "    <tr>\n",
       "      <th>2</th>\n",
       "      <td>Changes</td>\n",
       "      <td>Godsmack</td>\n",
       "      <td>Metal</td>\n",
       "      <td>14</td>\n",
       "    </tr>\n",
       "  </tbody>\n",
       "</table>\n",
       "</div>"
      ],
      "text/plain": [
       "             track_name   artist_name   genre_name  num_indi_tracks_sold\n",
       "0              War Pigs          Cake  Alternative                    33\n",
       "1  Are You Experienced?  Jimi Hendrix         Rock                    14\n",
       "2               Changes      Godsmack        Metal                    14"
      ]
     },
     "execution_count": 10,
     "metadata": {},
     "output_type": "execute_result"
    }
   ],
   "source": [
    "top_tracks = '''\n",
    "SELECT \n",
    "    cmb.track_name track_name,\n",
    "    ar.name artist_name, \n",
    "    cmb.ge_names genre_name, \n",
    "    count(cmb.il_trackid) num_indi_tracks_sold \n",
    "FROM artist ar \n",
    "INNER JOIN \n",
    "    (\n",
    "    SELECT \n",
    "        ab.artist_id artistID, \n",
    "        tr.name track_name, \n",
    "        ge.name ge_names,\n",
    "        il.track_id il_trackid\n",
    "    FROM track tr \n",
    "    INNER JOIN genre ge ON tr.genre_id = ge.genre_id \n",
    "    INNER JOIN album ab ON ab.album_id = tr.album_id\n",
    "    INNER JOIN invoice_line il ON tr.track_id = il.track_id\n",
    "    ) cmb \n",
    "ON ar.artist_id = cmb.artistID \n",
    "GROUP BY 1\n",
    "ORDER BY 4 DESC \n",
    "LIMIT 3;\n",
    "'''\n",
    "artist_list = run_query(top_tracks)\n",
    "artist_list"
   ]
  },
  {
   "cell_type": "markdown",
   "metadata": {},
   "source": [
    "Based on the individual sale volumn of songs, we can reccomend purchase of albums for the following top three artists:\n",
    "\n",
    "(1) Cake\n",
    "(2) Jimi Hendrix\n",
    "(3) Goldsmack"
   ]
  },
  {
   "cell_type": "markdown",
   "metadata": {},
   "source": [
    "### Getting sales data for all employees"
   ]
  },
  {
   "cell_type": "code",
   "execution_count": 11,
   "metadata": {
    "collapsed": false,
    "scrolled": true
   },
   "outputs": [
    {
     "name": "stdout",
     "output_type": "stream",
     "text": [
      "List of Staff Members with Title: \n",
      "\n",
      "               name                title            hire_date\n",
      "0      Andrew Adams      General Manager  2016-08-14 00:00:00\n",
      "1     Nancy Edwards        Sales Manager  2016-05-01 00:00:00\n",
      "2      Jane Peacock  Sales Support Agent  2017-04-01 00:00:00\n",
      "3     Margaret Park  Sales Support Agent  2017-05-03 00:00:00\n",
      "4     Steve Johnson  Sales Support Agent  2017-10-17 00:00:00\n",
      "5  Michael Mitchell           IT Manager  2016-10-17 00:00:00\n",
      "6       Robert King             IT Staff  2017-01-02 00:00:00\n",
      "7    Laura Callahan             IT Staff  2017-03-04 00:00:00\n",
      "\n",
      " Total Sale by Individual Sales Personnel: \n",
      "\n"
     ]
    },
    {
     "data": {
      "text/html": [
       "<div>\n",
       "<style scoped>\n",
       "    .dataframe tbody tr th:only-of-type {\n",
       "        vertical-align: middle;\n",
       "    }\n",
       "\n",
       "    .dataframe tbody tr th {\n",
       "        vertical-align: top;\n",
       "    }\n",
       "\n",
       "    .dataframe thead th {\n",
       "        text-align: right;\n",
       "    }\n",
       "</style>\n",
       "<table border=\"1\" class=\"dataframe\">\n",
       "  <thead>\n",
       "    <tr style=\"text-align: right;\">\n",
       "      <th></th>\n",
       "      <th>employee_name</th>\n",
       "      <th>designation</th>\n",
       "      <th>seniority_in_mo</th>\n",
       "      <th>total_sale</th>\n",
       "    </tr>\n",
       "  </thead>\n",
       "  <tbody>\n",
       "    <tr>\n",
       "      <th>0</th>\n",
       "      <td>Jane Peacock</td>\n",
       "      <td>Sales Support Agent</td>\n",
       "      <td>16.846518</td>\n",
       "      <td>1731.51</td>\n",
       "    </tr>\n",
       "    <tr>\n",
       "      <th>1</th>\n",
       "      <td>Margaret Park</td>\n",
       "      <td>Sales Support Agent</td>\n",
       "      <td>15.779851</td>\n",
       "      <td>1584.00</td>\n",
       "    </tr>\n",
       "    <tr>\n",
       "      <th>2</th>\n",
       "      <td>Steve Johnson</td>\n",
       "      <td>Sales Support Agent</td>\n",
       "      <td>10.213184</td>\n",
       "      <td>1393.92</td>\n",
       "    </tr>\n",
       "  </tbody>\n",
       "</table>\n",
       "</div>"
      ],
      "text/plain": [
       "   employee_name          designation  seniority_in_mo  total_sale\n",
       "0   Jane Peacock  Sales Support Agent        16.846518     1731.51\n",
       "1  Margaret Park  Sales Support Agent        15.779851     1584.00\n",
       "2  Steve Johnson  Sales Support Agent        10.213184     1393.92"
      ]
     },
     "execution_count": 11,
     "metadata": {},
     "output_type": "execute_result"
    }
   ],
   "source": [
    "print(\"List of Staff Members with Title: \\n\")\n",
    "employee_names = '''\n",
    "SELECT \n",
    "    em.first_name || ' ' || em.last_name name, \n",
    "    em.title, em.hire_date \n",
    "    FROM employee em;\n",
    "'''\n",
    "emp_nm = run_query(employee_names)\n",
    "print(emp_nm)\n",
    "\n",
    "print(\"\\n Total Sale by Individual Sales Personnel: \\n\")\n",
    "employee_sale = '''\n",
    "SELECT \n",
    "    em.first_name || ' ' || em.last_name employee_name, \n",
    "    em.title designation, \n",
    "    (SELECT julianday('now') - julianday(em.hire_date))/(30) seniority_in_mo, \n",
    "    SUM(sq.totsale) total_sale \n",
    "FROM employee em \n",
    "INNER JOIN \n",
    "    (\n",
    "    SELECT \n",
    "        cu.support_rep_id, iv.total totsale \n",
    "    FROM customer cu \n",
    "    INNER JOIN invoice iv ON iv.customer_id == cu.customer_id) sq \n",
    "ON em.employee_id  == sq.support_rep_id \n",
    "GROUP BY 1 ORDER BY 4 DESC;\n",
    "'''\n",
    "employee_df = run_query(employee_sale)\n",
    "employee_df"
   ]
  },
  {
   "cell_type": "markdown",
   "metadata": {},
   "source": [
    "### Plot for employee sales data"
   ]
  },
  {
   "cell_type": "code",
   "execution_count": 12,
   "metadata": {
    "collapsed": false
   },
   "outputs": [
    {
     "data": {
      "text/plain": [
       "<matplotlib.text.Text at 0x7f60ffe8c2e8>"
      ]
     },
     "execution_count": 12,
     "metadata": {},
     "output_type": "execute_result"
    },
    {
     "data": {
      "image/png": "[encoded data removed]",
      "text/plain": [
       "<matplotlib.figure.Figure at 0x7f60fff3ba90>"
      ]
     },
     "metadata": {},
     "output_type": "display_data"
    }
   ],
   "source": [
    "# Define Bar Chart Values\n",
    "bar_positions = range(3)\n",
    "bar_heights = employee_df[\"total_sale\"]\n",
    "\n",
    "# Develop Different Colors for bars\n",
    "employees = employee_df[\"employee_name\"]\n",
    "color_palette = ['b', 'g', 'r']\n",
    "color_dict = dict(zip(employees, color_palette))\n",
    "bar_colors = employees.map(color_dict)\n",
    "\n",
    "# Develop color bar chart\n",
    "plt.bar(bar_positions, bar_heights, 0.25, align=\"center\", color=bar_colors, tick_label=employee_df[\"employee_name\"])\n",
    "plt.xticks(rotation=90)\n",
    "plt.xlim(-1,3)\n",
    "plt.xlabel(\"Name of Employees\")\n",
    "plt.ylabel(\"Total Sales\")\n",
    "plt.title(\"Employee Sales Performance\")"
   ]
  },
  {
   "cell_type": "markdown",
   "metadata": {},
   "source": [
    "### Identify relationship between employee sales volume & seniority"
   ]
  },
  {
   "cell_type": "code",
   "execution_count": 13,
   "metadata": {
    "collapsed": false
   },
   "outputs": [
    {
     "data": {
      "image/png": "[encoded data removed]",
      "text/plain": [
       "<matplotlib.figure.Figure at 0x7f60fff115c0>"
      ]
     },
     "metadata": {},
     "output_type": "display_data"
    }
   ],
   "source": [
    "# Plot a scatter diagram to verify the correlation\n",
    "\n",
    "x_data = employee_df['seniority_in_mo']\n",
    "y_data = employee_df['total_sale']\n",
    "\n",
    "plt.plot(x_data, y_data, c='chartreuse', linewidth=2)\n",
    "plt.xlabel(\"Seniority in Number of Months\")\n",
    "plt.ylabel(\"Employee Total Sale Value\")\n",
    "plt.title(\"Employee Seniority Vs. Sale Value\")\n",
    "plt.show()"
   ]
  },
  {
   "cell_type": "raw",
   "metadata": {},
   "source": [
    "From the data visualization above, it becomes apparent that employee sales performance is linearly proportional to his/her seniority."
   ]
  },
  {
   "cell_type": "markdown",
   "metadata": {},
   "source": [
    "### Collect purchase data and scrutinize countries with less customers"
   ]
  },
  {
   "cell_type": "code",
   "execution_count": 14,
   "metadata": {
    "collapsed": false
   },
   "outputs": [
    {
     "data": {
      "text/html": [
       "<div>\n",
       "<style scoped>\n",
       "    .dataframe tbody tr th:only-of-type {\n",
       "        vertical-align: middle;\n",
       "    }\n",
       "\n",
       "    .dataframe tbody tr th {\n",
       "        vertical-align: top;\n",
       "    }\n",
       "\n",
       "    .dataframe thead th {\n",
       "        text-align: right;\n",
       "    }\n",
       "</style>\n",
       "<table border=\"1\" class=\"dataframe\">\n",
       "  <thead>\n",
       "    <tr style=\"text-align: right;\">\n",
       "      <th></th>\n",
       "      <th>country_org</th>\n",
       "      <th>country_revised</th>\n",
       "      <th>sort_order</th>\n",
       "      <th>tot_cust</th>\n",
       "      <th>total_orders</th>\n",
       "      <th>tot_sale_val</th>\n",
       "      <th>avg_sale_per_cust</th>\n",
       "      <th>avg_ord_val</th>\n",
       "      <th>order_per_cust</th>\n",
       "    </tr>\n",
       "  </thead>\n",
       "  <tbody>\n",
       "    <tr>\n",
       "      <th>0</th>\n",
       "      <td>USA</td>\n",
       "      <td>USA</td>\n",
       "      <td>0</td>\n",
       "      <td>13</td>\n",
       "      <td>131</td>\n",
       "      <td>1040.49</td>\n",
       "      <td>80.037692</td>\n",
       "      <td>7.942672</td>\n",
       "      <td>10.076923</td>\n",
       "    </tr>\n",
       "    <tr>\n",
       "      <th>1</th>\n",
       "      <td>Canada</td>\n",
       "      <td>Canada</td>\n",
       "      <td>0</td>\n",
       "      <td>8</td>\n",
       "      <td>76</td>\n",
       "      <td>535.59</td>\n",
       "      <td>66.948750</td>\n",
       "      <td>7.047237</td>\n",
       "      <td>9.500000</td>\n",
       "    </tr>\n",
       "    <tr>\n",
       "      <th>2</th>\n",
       "      <td>Brazil</td>\n",
       "      <td>Brazil</td>\n",
       "      <td>0</td>\n",
       "      <td>5</td>\n",
       "      <td>61</td>\n",
       "      <td>427.68</td>\n",
       "      <td>85.536000</td>\n",
       "      <td>7.011148</td>\n",
       "      <td>12.200000</td>\n",
       "    </tr>\n",
       "    <tr>\n",
       "      <th>3</th>\n",
       "      <td>France</td>\n",
       "      <td>France</td>\n",
       "      <td>0</td>\n",
       "      <td>5</td>\n",
       "      <td>50</td>\n",
       "      <td>389.07</td>\n",
       "      <td>77.814000</td>\n",
       "      <td>7.781400</td>\n",
       "      <td>10.000000</td>\n",
       "    </tr>\n",
       "    <tr>\n",
       "      <th>4</th>\n",
       "      <td>Germany</td>\n",
       "      <td>Germany</td>\n",
       "      <td>0</td>\n",
       "      <td>4</td>\n",
       "      <td>41</td>\n",
       "      <td>334.62</td>\n",
       "      <td>83.655000</td>\n",
       "      <td>8.161463</td>\n",
       "      <td>10.250000</td>\n",
       "    </tr>\n",
       "    <tr>\n",
       "      <th>5</th>\n",
       "      <td>Czech Republic</td>\n",
       "      <td>Czech Republic</td>\n",
       "      <td>0</td>\n",
       "      <td>2</td>\n",
       "      <td>30</td>\n",
       "      <td>273.24</td>\n",
       "      <td>136.620000</td>\n",
       "      <td>9.108000</td>\n",
       "      <td>15.000000</td>\n",
       "    </tr>\n",
       "    <tr>\n",
       "      <th>6</th>\n",
       "      <td>United Kingdom</td>\n",
       "      <td>United Kingdom</td>\n",
       "      <td>0</td>\n",
       "      <td>3</td>\n",
       "      <td>28</td>\n",
       "      <td>245.52</td>\n",
       "      <td>81.840000</td>\n",
       "      <td>8.768571</td>\n",
       "      <td>9.333333</td>\n",
       "    </tr>\n",
       "    <tr>\n",
       "      <th>7</th>\n",
       "      <td>Portugal</td>\n",
       "      <td>Portugal</td>\n",
       "      <td>0</td>\n",
       "      <td>2</td>\n",
       "      <td>29</td>\n",
       "      <td>185.13</td>\n",
       "      <td>92.565000</td>\n",
       "      <td>6.383793</td>\n",
       "      <td>14.500000</td>\n",
       "    </tr>\n",
       "    <tr>\n",
       "      <th>8</th>\n",
       "      <td>India</td>\n",
       "      <td>India</td>\n",
       "      <td>0</td>\n",
       "      <td>2</td>\n",
       "      <td>21</td>\n",
       "      <td>183.15</td>\n",
       "      <td>91.575000</td>\n",
       "      <td>8.721429</td>\n",
       "      <td>10.500000</td>\n",
       "    </tr>\n",
       "    <tr>\n",
       "      <th>9</th>\n",
       "      <td>Ireland</td>\n",
       "      <td>Other</td>\n",
       "      <td>1</td>\n",
       "      <td>1</td>\n",
       "      <td>13</td>\n",
       "      <td>114.84</td>\n",
       "      <td>114.840000</td>\n",
       "      <td>8.833846</td>\n",
       "      <td>13.000000</td>\n",
       "    </tr>\n",
       "    <tr>\n",
       "      <th>10</th>\n",
       "      <td>Spain</td>\n",
       "      <td>Other</td>\n",
       "      <td>1</td>\n",
       "      <td>1</td>\n",
       "      <td>11</td>\n",
       "      <td>98.01</td>\n",
       "      <td>98.010000</td>\n",
       "      <td>8.910000</td>\n",
       "      <td>11.000000</td>\n",
       "    </tr>\n",
       "    <tr>\n",
       "      <th>11</th>\n",
       "      <td>Chile</td>\n",
       "      <td>Other</td>\n",
       "      <td>1</td>\n",
       "      <td>1</td>\n",
       "      <td>13</td>\n",
       "      <td>97.02</td>\n",
       "      <td>97.020000</td>\n",
       "      <td>7.463077</td>\n",
       "      <td>13.000000</td>\n",
       "    </tr>\n",
       "    <tr>\n",
       "      <th>12</th>\n",
       "      <td>Australia</td>\n",
       "      <td>Other</td>\n",
       "      <td>1</td>\n",
       "      <td>1</td>\n",
       "      <td>10</td>\n",
       "      <td>81.18</td>\n",
       "      <td>81.180000</td>\n",
       "      <td>8.118000</td>\n",
       "      <td>10.000000</td>\n",
       "    </tr>\n",
       "    <tr>\n",
       "      <th>13</th>\n",
       "      <td>Finland</td>\n",
       "      <td>Other</td>\n",
       "      <td>1</td>\n",
       "      <td>1</td>\n",
       "      <td>11</td>\n",
       "      <td>79.20</td>\n",
       "      <td>79.200000</td>\n",
       "      <td>7.200000</td>\n",
       "      <td>11.000000</td>\n",
       "    </tr>\n",
       "    <tr>\n",
       "      <th>14</th>\n",
       "      <td>Hungary</td>\n",
       "      <td>Other</td>\n",
       "      <td>1</td>\n",
       "      <td>1</td>\n",
       "      <td>10</td>\n",
       "      <td>78.21</td>\n",
       "      <td>78.210000</td>\n",
       "      <td>7.821000</td>\n",
       "      <td>10.000000</td>\n",
       "    </tr>\n",
       "    <tr>\n",
       "      <th>15</th>\n",
       "      <td>Poland</td>\n",
       "      <td>Other</td>\n",
       "      <td>1</td>\n",
       "      <td>1</td>\n",
       "      <td>10</td>\n",
       "      <td>76.23</td>\n",
       "      <td>76.230000</td>\n",
       "      <td>7.623000</td>\n",
       "      <td>10.000000</td>\n",
       "    </tr>\n",
       "    <tr>\n",
       "      <th>16</th>\n",
       "      <td>Sweden</td>\n",
       "      <td>Other</td>\n",
       "      <td>1</td>\n",
       "      <td>1</td>\n",
       "      <td>10</td>\n",
       "      <td>75.24</td>\n",
       "      <td>75.240000</td>\n",
       "      <td>7.524000</td>\n",
       "      <td>10.000000</td>\n",
       "    </tr>\n",
       "    <tr>\n",
       "      <th>17</th>\n",
       "      <td>Norway</td>\n",
       "      <td>Other</td>\n",
       "      <td>1</td>\n",
       "      <td>1</td>\n",
       "      <td>9</td>\n",
       "      <td>72.27</td>\n",
       "      <td>72.270000</td>\n",
       "      <td>8.030000</td>\n",
       "      <td>9.000000</td>\n",
       "    </tr>\n",
       "    <tr>\n",
       "      <th>18</th>\n",
       "      <td>Austria</td>\n",
       "      <td>Other</td>\n",
       "      <td>1</td>\n",
       "      <td>1</td>\n",
       "      <td>9</td>\n",
       "      <td>69.30</td>\n",
       "      <td>69.300000</td>\n",
       "      <td>7.700000</td>\n",
       "      <td>9.000000</td>\n",
       "    </tr>\n",
       "    <tr>\n",
       "      <th>19</th>\n",
       "      <td>Netherlands</td>\n",
       "      <td>Other</td>\n",
       "      <td>1</td>\n",
       "      <td>1</td>\n",
       "      <td>10</td>\n",
       "      <td>65.34</td>\n",
       "      <td>65.340000</td>\n",
       "      <td>6.534000</td>\n",
       "      <td>10.000000</td>\n",
       "    </tr>\n",
       "    <tr>\n",
       "      <th>20</th>\n",
       "      <td>Belgium</td>\n",
       "      <td>Other</td>\n",
       "      <td>1</td>\n",
       "      <td>1</td>\n",
       "      <td>7</td>\n",
       "      <td>60.39</td>\n",
       "      <td>60.390000</td>\n",
       "      <td>8.627143</td>\n",
       "      <td>7.000000</td>\n",
       "    </tr>\n",
       "    <tr>\n",
       "      <th>21</th>\n",
       "      <td>Italy</td>\n",
       "      <td>Other</td>\n",
       "      <td>1</td>\n",
       "      <td>1</td>\n",
       "      <td>9</td>\n",
       "      <td>50.49</td>\n",
       "      <td>50.490000</td>\n",
       "      <td>5.610000</td>\n",
       "      <td>9.000000</td>\n",
       "    </tr>\n",
       "    <tr>\n",
       "      <th>22</th>\n",
       "      <td>Argentina</td>\n",
       "      <td>Other</td>\n",
       "      <td>1</td>\n",
       "      <td>1</td>\n",
       "      <td>5</td>\n",
       "      <td>39.60</td>\n",
       "      <td>39.600000</td>\n",
       "      <td>7.920000</td>\n",
       "      <td>5.000000</td>\n",
       "    </tr>\n",
       "    <tr>\n",
       "      <th>23</th>\n",
       "      <td>Denmark</td>\n",
       "      <td>Other</td>\n",
       "      <td>1</td>\n",
       "      <td>1</td>\n",
       "      <td>10</td>\n",
       "      <td>37.62</td>\n",
       "      <td>37.620000</td>\n",
       "      <td>3.762000</td>\n",
       "      <td>10.000000</td>\n",
       "    </tr>\n",
       "  </tbody>\n",
       "</table>\n",
       "</div>"
      ],
      "text/plain": [
       "       country_org country_revised  sort_order  tot_cust  total_orders  \\\n",
       "0              USA             USA           0        13           131   \n",
       "1           Canada          Canada           0         8            76   \n",
       "2           Brazil          Brazil           0         5            61   \n",
       "3           France          France           0         5            50   \n",
       "4          Germany         Germany           0         4            41   \n",
       "5   Czech Republic  Czech Republic           0         2            30   \n",
       "6   United Kingdom  United Kingdom           0         3            28   \n",
       "7         Portugal        Portugal           0         2            29   \n",
       "8            India           India           0         2            21   \n",
       "9          Ireland           Other           1         1            13   \n",
       "10           Spain           Other           1         1            11   \n",
       "11           Chile           Other           1         1            13   \n",
       "12       Australia           Other           1         1            10   \n",
       "13         Finland           Other           1         1            11   \n",
       "14         Hungary           Other           1         1            10   \n",
       "15          Poland           Other           1         1            10   \n",
       "16          Sweden           Other           1         1            10   \n",
       "17          Norway           Other           1         1             9   \n",
       "18         Austria           Other           1         1             9   \n",
       "19     Netherlands           Other           1         1            10   \n",
       "20         Belgium           Other           1         1             7   \n",
       "21           Italy           Other           1         1             9   \n",
       "22       Argentina           Other           1         1             5   \n",
       "23         Denmark           Other           1         1            10   \n",
       "\n",
       "    tot_sale_val  avg_sale_per_cust  avg_ord_val  order_per_cust  \n",
       "0        1040.49          80.037692     7.942672       10.076923  \n",
       "1         535.59          66.948750     7.047237        9.500000  \n",
       "2         427.68          85.536000     7.011148       12.200000  \n",
       "3         389.07          77.814000     7.781400       10.000000  \n",
       "4         334.62          83.655000     8.161463       10.250000  \n",
       "5         273.24         136.620000     9.108000       15.000000  \n",
       "6         245.52          81.840000     8.768571        9.333333  \n",
       "7         185.13          92.565000     6.383793       14.500000  \n",
       "8         183.15          91.575000     8.721429       10.500000  \n",
       "9         114.84         114.840000     8.833846       13.000000  \n",
       "10         98.01          98.010000     8.910000       11.000000  \n",
       "11         97.02          97.020000     7.463077       13.000000  \n",
       "12         81.18          81.180000     8.118000       10.000000  \n",
       "13         79.20          79.200000     7.200000       11.000000  \n",
       "14         78.21          78.210000     7.821000       10.000000  \n",
       "15         76.23          76.230000     7.623000       10.000000  \n",
       "16         75.24          75.240000     7.524000       10.000000  \n",
       "17         72.27          72.270000     8.030000        9.000000  \n",
       "18         69.30          69.300000     7.700000        9.000000  \n",
       "19         65.34          65.340000     6.534000       10.000000  \n",
       "20         60.39          60.390000     8.627143        7.000000  \n",
       "21         50.49          50.490000     5.610000        9.000000  \n",
       "22         39.60          39.600000     7.920000        5.000000  \n",
       "23         37.62          37.620000     3.762000       10.000000  "
      ]
     },
     "execution_count": 14,
     "metadata": {},
     "output_type": "execute_result"
    }
   ],
   "source": [
    "# Removing views created from the previous run to avoid execution error\n",
    "q1 = \"DROP VIEW IF EXISTS country_revised\"\n",
    "run_command(q1)\n",
    "# Creating view again to use it in the current execution\n",
    "cmnd = '''\n",
    "CREATE VIEW country_revised AS\n",
    "    SELECT\n",
    "        cu.customer_id cuid,\n",
    "        cu.country cntr,\n",
    "        COUNT(DISTINCT cu.customer_id) cust_count,\n",
    "        SUM(iv.total) tot_sale,\n",
    "        COUNT(iv.invoice_id) num_ord\n",
    "    FROM customer cu\n",
    "    INNER JOIN invoice iv ON cu.customer_id == iv.customer_id\n",
    "    GROUP BY cntr;\n",
    "'''\n",
    "run_command(cmnd)\n",
    "\n",
    "qry = '''\n",
    "\n",
    "SELECT\n",
    "    cntr country_org,\n",
    "    country_revised,\n",
    "    sort_ord sort_order,\n",
    "    cust_count tot_cust,\n",
    "    num_ord total_orders,\n",
    "    tot_sale tot_sale_val,\n",
    "    CAST(tot_sale AS Float)/CAST(cust_count AS Float) avg_sale_per_cust,\n",
    "    CAST(tot_sale AS Float)/CAST(num_ord AS Float) avg_ord_val,\n",
    "    CAST(num_ord AS Float)/CAST(cust_count AS Float) order_per_cust\n",
    "FROM \n",
    "    (\n",
    "    SELECT\n",
    "        cr.*, \n",
    "        \n",
    "        CASE \n",
    "            WHEN cr.cust_count == 1 THEN 'Other'\n",
    "            ELSE cr.cntr\n",
    "        END AS country_revised,\n",
    "        \n",
    "        CASE \n",
    "            WHEN cr.cust_count == 1 THEN 1\n",
    "            ELSE 0 \n",
    "        END AS sort_ord\n",
    "    \n",
    "    FROM country_revised cr\n",
    "    )\n",
    "GROUP BY cuid\n",
    "ORDER BY sort_ord ASC, tot_sale DESC;\n",
    "'''\n",
    "\n",
    "purchase_per_country = run_query(qry)\n",
    "purchase_per_country"
   ]
  },
  {
   "cell_type": "markdown",
   "metadata": {},
   "source": [
    "## Evaluate Strategy for Underdeveloped Markets"
   ]
  },
  {
   "cell_type": "markdown",
   "metadata": {},
   "source": [
    "### Verify Marketing Needs based on the Average Customer Sale Value"
   ]
  },
  {
   "cell_type": "code",
   "execution_count": 15,
   "metadata": {
    "collapsed": false
   },
   "outputs": [
    {
     "data": {
      "text/plain": [
       "<matplotlib.text.Text at 0x7f60ffd6dda0>"
      ]
     },
     "execution_count": 15,
     "metadata": {},
     "output_type": "execute_result"
    },
    {
     "data": {
      "image/png": "[encoded data removed]",
      "text/plain": [
       "<matplotlib.figure.Figure at 0x7f60ffdbe550>"
      ]
     },
     "metadata": {},
     "output_type": "display_data"
    }
   ],
   "source": [
    "# List the countries with low sale  volume\n",
    "low_sale_market = purchase_per_country[purchase_per_country['sort_order'] == 1]\n",
    "\n",
    "# Get global average customer sales value\n",
    "global_avg_cust_sale = purchase_per_country['avg_sale_per_cust'].mean()\n",
    "\n",
    "# Definie the color settings for countries with underdeveloped market\n",
    "country_ord_avgcs = low_sale_market.sort_values(by='avg_sale_per_cust')['country_org']\n",
    "unique_colors = ['b', 'g', 'r', 'c', 'm', 'y', 'orange', 'silver', 'coral', 'fuchsia', 'gold', 'indigo', 'chartreuse', 'olive', 'maroon']\n",
    "color_deck = dict(zip(country_ord_avgcs, unique_colors))\n",
    "apply_colors = country_ord_avgcs.map(color_deck)\n",
    "\n",
    "# Develop Country Specific Color Plot\n",
    "bar_positions = range(15)\n",
    "bar_heights = low_sale_market[\"avg_sale_per_cust\"].sort_values()\n",
    "\n",
    "plt.bar(bar_positions, bar_heights, align=\"center\", color=apply_colors, tick_label=country_ord_avgcs, label=\"Average Cust Sales Value\")\n",
    "plt.xticks(rotation=90)\n",
    "plt.xlim(-1,16)\n",
    "plt.ylim(0,140)\n",
    "plt.axhline(global_avg_cust_sale, color='r', linestyle='--', linewidth=1.5, label=\"Global Avg. Sale Value\")\n",
    "plt.legend(loc='upper left')\n",
    "plt.xlabel(\"Countries\")\n",
    "plt.ylabel(\"Average Order Value\")\n",
    "plt.title(\"Markets with HEAVY Marketing Campaign Needs - Avg. Sale/Cust.\")"
   ]
  },
  {
   "cell_type": "raw",
   "metadata": {
    "collapsed": true
   },
   "source": [
    "Based on the chart above, we can conclude that the following ten countries have average customer sales value lower than that of the global value:\n",
    "\n",
    "Argentina\n",
    "Austria\n",
    "Belgium\n",
    "Denmark\n",
    "Hungary\n",
    "Italy\n",
    "Netherlands\n",
    "Norway\n",
    "Poland\n",
    "Sweden\n",
    "\n",
    "Improvement in the average customer sales value requires massive marketing campaign to increase market base as well as customer volume. The required efforts include:\n",
    "\n",
    "* increase advertisement that has the highest reach to the potential customer sectors\n",
    "* explore newer untapped market segments\n",
    "* develop new product distribution network \n",
    "* widen the existing sales network\n",
    "* introduce new sales techniques that improve consumer involvement"
   ]
  },
  {
   "cell_type": "markdown",
   "metadata": {
    "collapsed": true
   },
   "source": [
    "### Verify Marketing Needs based on the Average Order Value"
   ]
  },
  {
   "cell_type": "code",
   "execution_count": 16,
   "metadata": {
    "collapsed": false
   },
   "outputs": [
    {
     "data": {
      "text/plain": [
       "<matplotlib.text.Text at 0x7f60ffdb62e8>"
      ]
     },
     "execution_count": 16,
     "metadata": {},
     "output_type": "execute_result"
    },
    {
     "data": {
      "image/png": "[encoded data removed]",
      "text/plain": [
       "<matplotlib.figure.Figure at 0x7f60ffda5fd0>"
      ]
     },
     "metadata": {},
     "output_type": "display_data"
    }
   ],
   "source": [
    "# Get global average customer sales value\n",
    "global_avg_ord_val = purchase_per_country['avg_ord_val'].mean()\n",
    "\n",
    "# Definie the color settings for countries with underdeveloped market\n",
    "country_avg_ordval = low_sale_market.sort_values(by='avg_ord_val')['country_org']\n",
    "apply_colors = country_avg_ordval.map(color_deck)\n",
    "\n",
    "# Develop Country Specific Color Plot\n",
    "bar_positions = range(15)\n",
    "bar_heights = low_sale_market['avg_ord_val'].sort_values()\n",
    "\n",
    "plt.bar(bar_positions, bar_heights, align=\"center\", color=apply_colors, tick_label=country_avg_ordval, label=\"Average Order Value\")\n",
    "plt.xticks(rotation=90)\n",
    "plt.xlim(-1,16)\n",
    "plt.ylim(0,10)\n",
    "plt.axhline(global_avg_ord_val, color='k', linestyle='--', linewidth=1.5, label=\"Global Avg. Order Value\")\n",
    "plt.legend(loc='upper left')\n",
    "plt.xlabel(\"Countries\")\n",
    "plt.ylabel(\"Average Order Value\")\n",
    "plt.title(\"Markets with HEAVY Marketing Campaign Needs - Avg. Order Value.\")"
   ]
  },
  {
   "cell_type": "raw",
   "metadata": {},
   "source": [
    "Based on the chart above, we can conclude that the following five countries have average order value lower than that of the global value:\n",
    "\n",
    "Denmark\n",
    "Italy\n",
    "Netherlands\n",
    "Finland\n",
    "Chile\n",
    "\n",
    "Improvement in the average order value requires marketing campaign that includes but not limited to:\n",
    "\n",
    "* carefully craft the product pricing policy\n",
    "* carry out price perception research for the product mix\n",
    "* introduce discount policy to encourage product bundle sale\n",
    "* provide upscale customer services to satisfy consumer loyalty\n",
    "* conduct intensive research for consumer KPIs across different market segments"
   ]
  },
  {
   "cell_type": "markdown",
   "metadata": {},
   "source": [
    "## Evaluate Strategy for Developed Markets"
   ]
  },
  {
   "cell_type": "markdown",
   "metadata": {},
   "source": [
    "### Verify Marketing Needs based on the Total Order Volume"
   ]
  },
  {
   "cell_type": "code",
   "execution_count": 17,
   "metadata": {
    "collapsed": false
   },
   "outputs": [
    {
     "data": {
      "text/plain": [
       "<matplotlib.text.Text at 0x7f60ffc6be80>"
      ]
     },
     "execution_count": 17,
     "metadata": {},
     "output_type": "execute_result"
    },
    {
     "data": {
      "image/png": "[encoded data removed]",
      "text/plain": [
       "<matplotlib.figure.Figure at 0x7f60ffda56d8>"
      ]
     },
     "metadata": {},
     "output_type": "display_data"
    }
   ],
   "source": [
    "# Seggregate the countries with better sale  volume\n",
    "developed_mkt_sale = purchase_per_country[purchase_per_country['sort_order'] == 0]\n",
    "\n",
    "# Get average customer sales value for the developed market\n",
    "dev_avg_orders = developed_mkt_sale['total_orders'].mean()\n",
    "\n",
    "# Definie the color settings for the countries with developed market\n",
    "country_tot_ord_dev = developed_mkt_sale.sort_values(by='total_orders')['country_org']\n",
    "unique_colors = ['brown', 'chocolate', 'crimson', 'cyan', 'khaki', 'lime', 'navy', 'orchid', 'teal']\n",
    "color_deck_dev = dict(zip(country_tot_ord_dev, unique_colors))\n",
    "applied_colors = country_tot_ord_dev.map(color_deck_dev)\n",
    "\n",
    "# Develop Country Specific Color Plot\n",
    "bar_positions = range(9)\n",
    "bar_heights = developed_mkt_sale[\"total_orders\"].sort_values()\n",
    "\n",
    "plt.bar(bar_positions, bar_heights, align=\"center\", color=applied_colors, tick_label=country_tot_ord_dev, label=\"Total Orders\")\n",
    "plt.xticks(rotation=90)\n",
    "plt.xlim(-1,9)\n",
    "plt.ylim(0,140)\n",
    "plt.axhline(dev_avg_orders, color='m', linestyle='--', linewidth=1.5, label=\"Avg. Orders in Developed Markets\")\n",
    "plt.legend(loc='upper left')\n",
    "plt.xlabel(\"Countries\")\n",
    "plt.ylabel(\"Total  Orders\")\n",
    "plt.title(\"Developed Markets with MODERATE Campaign Needs - Total Orders\")"
   ]
  },
  {
   "cell_type": "raw",
   "metadata": {},
   "source": [
    "Following five countries amongst the developed market segment have below average total number of orders:\n",
    "\n",
    "India\n",
    "United Kingdom\n",
    "Portugal\n",
    "Czech Republic\n",
    "Germany\n",
    "\n",
    "To increase the total orders in each of the above countries, the marketing team has to:\n",
    "\n",
    "* understand the local rivals and their USPs\n",
    "* identify our own USPs based on the consumer sentiments\n",
    "* explore the untapped lucrative consumer sectors to focus"
   ]
  },
  {
   "cell_type": "markdown",
   "metadata": {},
   "source": [
    "## Get Global Market Status"
   ]
  },
  {
   "cell_type": "markdown",
   "metadata": {},
   "source": [
    "### For Countries With Underdeveloped Maket"
   ]
  },
  {
   "cell_type": "code",
   "execution_count": 18,
   "metadata": {
    "collapsed": false
   },
   "outputs": [
    {
     "data": {
      "image/png": "[encoded data removed]",
      "text/plain": [
       "<matplotlib.figure.Figure at 0x7f60ffd9ef60>"
      ]
     },
     "metadata": {},
     "output_type": "display_data"
    },
    {
     "name": "stdout",
     "output_type": "stream",
     "text": [
      "\n",
      "Average Sales Share in the Underdeveloped Market = 6.67%\n"
     ]
    }
   ],
   "source": [
    "# Get total sales share\n",
    "low_mkt_share = low_sale_market['tot_sale_val']\n",
    "apply_colors = list(low_sale_market['country_org'].map(color_deck))\n",
    "\n",
    "# Develop Country Specific Color Pie Chart\n",
    "plt.pie(low_mkt_share, labels=low_sale_market['country_org'], colors=apply_colors, startangle=180, shadow=True, autopct='%1.1f%%', pctdistance=0.80)\n",
    "plt.axis('equal')\n",
    "plt.show()\n",
    "\n",
    "# Get average sale share of the unerdeveloped market\n",
    "print(\"\\nAverage Sales Share in the Underdeveloped Market = {0:.2f}%\".format(low_mkt_share.mean()*100/low_mkt_share.sum()))"
   ]
  },
  {
   "cell_type": "raw",
   "metadata": {},
   "source": [
    "The above chart clearly indicates that focused approach is necessary to develop market in Belgium, Italy, Argentina and Denmark. "
   ]
  },
  {
   "cell_type": "markdown",
   "metadata": {},
   "source": [
    "### For Countries with Developed Maket"
   ]
  },
  {
   "cell_type": "code",
   "execution_count": 19,
   "metadata": {
    "collapsed": false
   },
   "outputs": [
    {
     "data": {
      "image/png": "[encoded data removed]",
      "text/plain": [
       "<matplotlib.figure.Figure at 0x7f60ffea51d0>"
      ]
     },
     "metadata": {},
     "output_type": "display_data"
    },
    {
     "name": "stdout",
     "output_type": "stream",
     "text": [
      "\n",
      "Average Sales Share in the Developed Market = 11.11%\n"
     ]
    }
   ],
   "source": [
    "# Get total sales share\n",
    "high_mkt_share = developed_mkt_sale['tot_sale_val']\n",
    "applid_colors = list(developed_mkt_sale['country_org'].map(color_deck_dev))\n",
    "\n",
    "# Develop Country Specific Color Pie Chart\n",
    "plt.pie(high_mkt_share, labels=developed_mkt_sale['country_org'], colors=applied_colors, startangle=180, shadow=True, autopct='%1.1f%%', pctdistance=0.80)\n",
    "plt.show()\n",
    "\n",
    "# Get average sale share of the unerdeveloped market\n",
    "print(\"\\nAverage Sales Share in the Developed Market = {0:.2f}%\".format(high_mkt_share.mean()*100/high_mkt_share.sum()))"
   ]
  },
  {
   "cell_type": "raw",
   "metadata": {},
   "source": [
    "The above chart indicates need for intensive marketing campaign in India, Portugal, United Kingdom, and Czech Republic. "
   ]
  },
  {
   "cell_type": "markdown",
   "metadata": {},
   "source": [
    "### Verify Purchases With Full Albums vs. Popular Tracks"
   ]
  },
  {
   "cell_type": "code",
   "execution_count": 20,
   "metadata": {
    "collapsed": false
   },
   "outputs": [
    {
     "data": {
      "text/html": [
       "<div>\n",
       "<style scoped>\n",
       "    .dataframe tbody tr th:only-of-type {\n",
       "        vertical-align: middle;\n",
       "    }\n",
       "\n",
       "    .dataframe tbody tr th {\n",
       "        vertical-align: top;\n",
       "    }\n",
       "\n",
       "    .dataframe thead th {\n",
       "        text-align: right;\n",
       "    }\n",
       "</style>\n",
       "<table border=\"1\" class=\"dataframe\">\n",
       "  <thead>\n",
       "    <tr style=\"text-align: right;\">\n",
       "      <th></th>\n",
       "      <th>album_selection</th>\n",
       "      <th>num_of_invoices</th>\n",
       "      <th>percentage</th>\n",
       "    </tr>\n",
       "  </thead>\n",
       "  <tbody>\n",
       "    <tr>\n",
       "      <th>0</th>\n",
       "      <td>No</td>\n",
       "      <td>497</td>\n",
       "      <td>80.94</td>\n",
       "    </tr>\n",
       "    <tr>\n",
       "      <th>1</th>\n",
       "      <td>Yes</td>\n",
       "      <td>117</td>\n",
       "      <td>19.06</td>\n",
       "    </tr>\n",
       "  </tbody>\n",
       "</table>\n",
       "</div>"
      ],
      "text/plain": [
       "  album_selection  num_of_invoices  percentage\n",
       "0              No              497       80.94\n",
       "1             Yes              117       19.06"
      ]
     },
     "execution_count": 20,
     "metadata": {},
     "output_type": "execute_result"
    }
   ],
   "source": [
    "# Develope a query\n",
    "\n",
    "complete_album_purchase = '''\n",
    "WITH inv_track_check AS \n",
    "    (\n",
    "    SELECT\n",
    "        il.invoice_id invoice_num,\n",
    "        MIN(il.track_id) first_track,\n",
    "        tr.album_id album_id\n",
    "    FROM invoice_line il \n",
    "    INNER JOIN track tr\n",
    "    ON il.track_id = tr.track_id\n",
    "    GROUP BY 1\n",
    "    )\n",
    "    \n",
    "SELECT\n",
    "    album_selection,\n",
    "    COUNT(invoice_num) num_of_invoices,\n",
    "    ROUND(CAST(COUNT(invoice_num) AS FLOAT) * 100 / (SELECT COUNT(*) FROM inv_track_check), 2) percentage\n",
    "\n",
    "FROM\n",
    "        (\n",
    "        SELECT\n",
    "            itc.*,\n",
    "            CASE\n",
    "                WHEN\n",
    "                    (\n",
    "                    SELECT\n",
    "                        tr1.track_id FROM track tr1\n",
    "                        WHERE tr1.album_id = itc.album_id\n",
    "                        \n",
    "                        EXCEPT\n",
    "                        \n",
    "                    SELECT\n",
    "                        il1.track_id FROM invoice_line il1\n",
    "                        WHERE il1.invoice_id = itc.invoice_num\n",
    "                        ) IS NULL THEN \"Yes\"\n",
    "                    ELSE \"No\"\n",
    "            END AS \"album_selection\"\n",
    "        FROM inv_track_check itc\n",
    "        )\n",
    "GROUP BY 1;\n",
    "'''\n",
    "\n",
    "run_query(complete_album_purchase)"
   ]
  },
  {
   "cell_type": "raw",
   "metadata": {},
   "source": [
    "Since around 20% of customers buy full album, the buying full albums from the record comapnies is recommended. The management must consider buying the whole album along with the most popular tracks from the record companies since the former constitutes a  sales revenue by 20%."
   ]
  },
  {
   "cell_type": "markdown",
   "metadata": {},
   "source": [
    "### Identify Artist Who is Used in the Most Playlists"
   ]
  },
  {
   "cell_type": "code",
   "execution_count": 21,
   "metadata": {
    "collapsed": false
   },
   "outputs": [
    {
     "data": {
      "text/html": [
       "<div>\n",
       "<style scoped>\n",
       "    .dataframe tbody tr th:only-of-type {\n",
       "        vertical-align: middle;\n",
       "    }\n",
       "\n",
       "    .dataframe tbody tr th {\n",
       "        vertical-align: top;\n",
       "    }\n",
       "\n",
       "    .dataframe thead th {\n",
       "        text-align: right;\n",
       "    }\n",
       "</style>\n",
       "<table border=\"1\" class=\"dataframe\">\n",
       "  <thead>\n",
       "    <tr style=\"text-align: right;\">\n",
       "      <th></th>\n",
       "      <th>artist_name</th>\n",
       "      <th>artist_frequency</th>\n",
       "    </tr>\n",
       "  </thead>\n",
       "  <tbody>\n",
       "    <tr>\n",
       "      <th>0</th>\n",
       "      <td>Eugene Ormandy</td>\n",
       "      <td>7</td>\n",
       "    </tr>\n",
       "    <tr>\n",
       "      <th>1</th>\n",
       "      <td>Academy of St. Martin in the Fields &amp; Sir Nevi...</td>\n",
       "      <td>6</td>\n",
       "    </tr>\n",
       "    <tr>\n",
       "      <th>2</th>\n",
       "      <td>Berliner Philharmoniker &amp; Herbert Von Karajan</td>\n",
       "      <td>6</td>\n",
       "    </tr>\n",
       "    <tr>\n",
       "      <th>3</th>\n",
       "      <td>English Concert &amp; Trevor Pinnock</td>\n",
       "      <td>6</td>\n",
       "    </tr>\n",
       "    <tr>\n",
       "      <th>4</th>\n",
       "      <td>The King's Singers</td>\n",
       "      <td>6</td>\n",
       "    </tr>\n",
       "  </tbody>\n",
       "</table>\n",
       "</div>"
      ],
      "text/plain": [
       "                                         artist_name  artist_frequency\n",
       "0                                     Eugene Ormandy                 7\n",
       "1  Academy of St. Martin in the Fields & Sir Nevi...                 6\n",
       "2      Berliner Philharmoniker & Herbert Von Karajan                 6\n",
       "3                   English Concert & Trevor Pinnock                 6\n",
       "4                                 The King's Singers                 6"
      ]
     },
     "execution_count": 21,
     "metadata": {},
     "output_type": "execute_result"
    }
   ],
   "source": [
    "# Develope a query\n",
    "\n",
    "most_used_artist = '''\n",
    "\n",
    "WITH playlist_track_album AS \n",
    "(\n",
    "    SELECT\n",
    "        plt.playlist_id playlist_id,\n",
    "        tr.track_id track_id,\n",
    "        ab.album_id album_id,\n",
    "        ab.artist_id artist_id\n",
    "    FROM playlist_track plt\n",
    "    INNER JOIN track tr ON plt.track_id = tr.track_id\n",
    "    INNER JOIN album ab ON ab.album_id = tr.album_id\n",
    "    GROUP BY 1, 4\n",
    ")\n",
    "\n",
    "SELECT\n",
    "    art.name artist_name,\n",
    "    COUNT(ply.name) artist_frequency\n",
    "    \n",
    "FROM\n",
    "     playlist_track_album pta\n",
    "     INNER JOIN playlist ply ON ply.playlist_id = pta.playlist_id\n",
    "     INNER JOIN artist art ON art.artist_id = pta.artist_id \n",
    "GROUP BY 1\n",
    "ORDER BY 2 DESC\n",
    "LIMIT 5;\n",
    "'''\n",
    "\n",
    "run_query(most_used_artist)"
   ]
  },
  {
   "cell_type": "raw",
   "metadata": {},
   "source": [
    "Artist \"Eugene Ormandy\" is used in the most playlist.  "
   ]
  },
  {
   "cell_type": "markdown",
   "metadata": {},
   "source": [
    "### Determine Tracks Purchase History "
   ]
  },
  {
   "cell_type": "code",
   "execution_count": 22,
   "metadata": {
    "collapsed": false
   },
   "outputs": [
    {
     "data": {
      "text/html": [
       "<div>\n",
       "<style scoped>\n",
       "    .dataframe tbody tr th:only-of-type {\n",
       "        vertical-align: middle;\n",
       "    }\n",
       "\n",
       "    .dataframe tbody tr th {\n",
       "        vertical-align: top;\n",
       "    }\n",
       "\n",
       "    .dataframe thead th {\n",
       "        text-align: right;\n",
       "    }\n",
       "</style>\n",
       "<table border=\"1\" class=\"dataframe\">\n",
       "  <thead>\n",
       "    <tr style=\"text-align: right;\">\n",
       "      <th></th>\n",
       "      <th>num_tracks_sold</th>\n",
       "      <th>num_tracks_unsold</th>\n",
       "      <th>total_tracks</th>\n",
       "      <th>percent_sold</th>\n",
       "      <th>percent_unsold</th>\n",
       "    </tr>\n",
       "  </thead>\n",
       "  <tbody>\n",
       "    <tr>\n",
       "      <th>0</th>\n",
       "      <td>1806</td>\n",
       "      <td>1697</td>\n",
       "      <td>3503</td>\n",
       "      <td>51.56</td>\n",
       "      <td>48.44</td>\n",
       "    </tr>\n",
       "  </tbody>\n",
       "</table>\n",
       "</div>"
      ],
      "text/plain": [
       "   num_tracks_sold  num_tracks_unsold  total_tracks  percent_sold  \\\n",
       "0             1806               1697          3503         51.56   \n",
       "\n",
       "   percent_unsold  \n",
       "0           48.44  "
      ]
     },
     "execution_count": 22,
     "metadata": {},
     "output_type": "execute_result"
    }
   ],
   "source": [
    "q2 = \"DROP VIEW IF EXISTS tracks_invoiced\"\n",
    "run_command(q2)\n",
    "\n",
    "create_table = '''\n",
    "CREATE VIEW tracks_invoiced AS\n",
    "    SELECT \n",
    "        tr.track_id track_total,\n",
    "        il.track_id track_sold,\n",
    "        il.invoice_id invoice_id\n",
    "    FROM track tr\n",
    "    LEFT OUTER JOIN invoice_line il\n",
    "    ON tr.track_id = il.track_id\n",
    "    GROUP BY 1;\n",
    "'''\n",
    "\n",
    "run_command(create_table)\n",
    "\n",
    "\n",
    "tracks_purchased = '''\n",
    "SELECT\n",
    "    COUNT(ti.track_sold) num_tracks_sold,\n",
    "    (SELECT COUNT(track_total) FROM tracks_invoiced) - (SELECT COUNT(track_sold) FROM tracks_invoiced) num_tracks_unsold,\n",
    "    COUNT(ti.track_total) total_tracks,\n",
    "    ROUND(CAST((SELECT COUNT(track_sold) FROM tracks_invoiced) AS FLOAT) * 100 / (SELECT COUNT(*) FROM tracks_invoiced), 2) percent_sold,\n",
    "    ROUND(CAST(((SELECT COUNT(track_total) FROM tracks_invoiced) - (SELECT COUNT(track_sold) FROM tracks_invoiced)) AS FLOAT) * 100 / (SELECT COUNT(*) FROM tracks_invoiced), 2) percent_unsold\n",
    "    \n",
    "FROM\n",
    "    tracks_invoiced ti;\n",
    "'''\n",
    "\n",
    "run_query(tracks_purchased)"
   ]
  },
  {
   "cell_type": "markdown",
   "metadata": {},
   "source": [
    "### Identify Popular Top 2% Saleable Tracks "
   ]
  },
  {
   "cell_type": "code",
   "execution_count": 23,
   "metadata": {
    "collapsed": false,
    "scrolled": true
   },
   "outputs": [
    {
     "data": {
      "text/html": [
       "<div>\n",
       "<style scoped>\n",
       "    .dataframe tbody tr th:only-of-type {\n",
       "        vertical-align: middle;\n",
       "    }\n",
       "\n",
       "    .dataframe tbody tr th {\n",
       "        vertical-align: top;\n",
       "    }\n",
       "\n",
       "    .dataframe thead th {\n",
       "        text-align: right;\n",
       "    }\n",
       "</style>\n",
       "<table border=\"1\" class=\"dataframe\">\n",
       "  <thead>\n",
       "    <tr style=\"text-align: right;\">\n",
       "      <th></th>\n",
       "      <th>track_name</th>\n",
       "      <th>album_name</th>\n",
       "      <th>num_sold</th>\n",
       "    </tr>\n",
       "  </thead>\n",
       "  <tbody>\n",
       "    <tr>\n",
       "      <th>0</th>\n",
       "      <td>War Pigs</td>\n",
       "      <td>Cake: B-Sides and Rarities</td>\n",
       "      <td>33</td>\n",
       "    </tr>\n",
       "    <tr>\n",
       "      <th>1</th>\n",
       "      <td>Are You Experienced?</td>\n",
       "      <td>Are You Experienced?</td>\n",
       "      <td>14</td>\n",
       "    </tr>\n",
       "    <tr>\n",
       "      <th>2</th>\n",
       "      <td>Changes</td>\n",
       "      <td>Faceless</td>\n",
       "      <td>14</td>\n",
       "    </tr>\n",
       "    <tr>\n",
       "      <th>3</th>\n",
       "      <td>Highway Chile</td>\n",
       "      <td>Are You Experienced?</td>\n",
       "      <td>14</td>\n",
       "    </tr>\n",
       "    <tr>\n",
       "      <th>4</th>\n",
       "      <td>Hey Joe</td>\n",
       "      <td>Are You Experienced?</td>\n",
       "      <td>13</td>\n",
       "    </tr>\n",
       "    <tr>\n",
       "      <th>5</th>\n",
       "      <td>Put The Finger On You</td>\n",
       "      <td>For Those About To Rock We Salute You</td>\n",
       "      <td>13</td>\n",
       "    </tr>\n",
       "    <tr>\n",
       "      <th>6</th>\n",
       "      <td>Third Stone From The Sun</td>\n",
       "      <td>Are You Experienced?</td>\n",
       "      <td>13</td>\n",
       "    </tr>\n",
       "    <tr>\n",
       "      <th>7</th>\n",
       "      <td>Drain You</td>\n",
       "      <td>Nevermind</td>\n",
       "      <td>12</td>\n",
       "    </tr>\n",
       "    <tr>\n",
       "      <th>8</th>\n",
       "      <td>Love Or Confusion</td>\n",
       "      <td>Are You Experienced?</td>\n",
       "      <td>12</td>\n",
       "    </tr>\n",
       "    <tr>\n",
       "      <th>9</th>\n",
       "      <td>Radio/Video</td>\n",
       "      <td>Mezmerize</td>\n",
       "      <td>12</td>\n",
       "    </tr>\n",
       "    <tr>\n",
       "      <th>10</th>\n",
       "      <td>We Are The Champions</td>\n",
       "      <td>News Of The World</td>\n",
       "      <td>12</td>\n",
       "    </tr>\n",
       "    <tr>\n",
       "      <th>11</th>\n",
       "      <td>51st Anniversary</td>\n",
       "      <td>Are You Experienced?</td>\n",
       "      <td>11</td>\n",
       "    </tr>\n",
       "    <tr>\n",
       "      <th>12</th>\n",
       "      <td>Dead And Broken</td>\n",
       "      <td>Faceless</td>\n",
       "      <td>11</td>\n",
       "    </tr>\n",
       "    <tr>\n",
       "      <th>13</th>\n",
       "      <td>Foxy Lady</td>\n",
       "      <td>Are You Experienced?</td>\n",
       "      <td>11</td>\n",
       "    </tr>\n",
       "    <tr>\n",
       "      <th>14</th>\n",
       "      <td>I Can't Explain</td>\n",
       "      <td>20th Century Masters - The Millennium Collecti...</td>\n",
       "      <td>11</td>\n",
       "    </tr>\n",
       "    <tr>\n",
       "      <th>15</th>\n",
       "      <td>May This Be Love</td>\n",
       "      <td>Are You Experienced?</td>\n",
       "      <td>11</td>\n",
       "    </tr>\n",
       "    <tr>\n",
       "      <th>16</th>\n",
       "      <td>Old School Hollywood</td>\n",
       "      <td>Mezmerize</td>\n",
       "      <td>11</td>\n",
       "    </tr>\n",
       "    <tr>\n",
       "      <th>17</th>\n",
       "      <td>Remember</td>\n",
       "      <td>Are You Experienced?</td>\n",
       "      <td>11</td>\n",
       "    </tr>\n",
       "    <tr>\n",
       "      <th>18</th>\n",
       "      <td>Stone Free</td>\n",
       "      <td>Are You Experienced?</td>\n",
       "      <td>11</td>\n",
       "    </tr>\n",
       "    <tr>\n",
       "      <th>19</th>\n",
       "      <td>We Will Rock You</td>\n",
       "      <td>News Of The World</td>\n",
       "      <td>11</td>\n",
       "    </tr>\n",
       "    <tr>\n",
       "      <th>20</th>\n",
       "      <td>Any Colour You Like</td>\n",
       "      <td>Dark Side Of The Moon</td>\n",
       "      <td>10</td>\n",
       "    </tr>\n",
       "    <tr>\n",
       "      <th>21</th>\n",
       "      <td>Can You See Me</td>\n",
       "      <td>Are You Experienced?</td>\n",
       "      <td>10</td>\n",
       "    </tr>\n",
       "    <tr>\n",
       "      <th>22</th>\n",
       "      <td>Faceless</td>\n",
       "      <td>Faceless</td>\n",
       "      <td>10</td>\n",
       "    </tr>\n",
       "    <tr>\n",
       "      <th>23</th>\n",
       "      <td>I Don't Live Today</td>\n",
       "      <td>Are You Experienced?</td>\n",
       "      <td>10</td>\n",
       "    </tr>\n",
       "    <tr>\n",
       "      <th>24</th>\n",
       "      <td>Last Chance</td>\n",
       "      <td>Get Born</td>\n",
       "      <td>10</td>\n",
       "    </tr>\n",
       "    <tr>\n",
       "      <th>25</th>\n",
       "      <td>Lithium</td>\n",
       "      <td>Nevermind</td>\n",
       "      <td>10</td>\n",
       "    </tr>\n",
       "    <tr>\n",
       "      <th>26</th>\n",
       "      <td>Message in a Bottle (new classic rock mix)</td>\n",
       "      <td>The Police Greatest Hits</td>\n",
       "      <td>10</td>\n",
       "    </tr>\n",
       "    <tr>\n",
       "      <th>27</th>\n",
       "      <td>Night Of The Long Knives</td>\n",
       "      <td>For Those About To Rock We Salute You</td>\n",
       "      <td>10</td>\n",
       "    </tr>\n",
       "    <tr>\n",
       "      <th>28</th>\n",
       "      <td>Purple Haze</td>\n",
       "      <td>Are You Experienced?</td>\n",
       "      <td>10</td>\n",
       "    </tr>\n",
       "    <tr>\n",
       "      <th>29</th>\n",
       "      <td>Question!</td>\n",
       "      <td>Mezmerize</td>\n",
       "      <td>10</td>\n",
       "    </tr>\n",
       "    <tr>\n",
       "      <th>30</th>\n",
       "      <td>Re-Align</td>\n",
       "      <td>Faceless</td>\n",
       "      <td>10</td>\n",
       "    </tr>\n",
       "    <tr>\n",
       "      <th>31</th>\n",
       "      <td>Slowness</td>\n",
       "      <td>Carried to Dust (Bonus Track Version)</td>\n",
       "      <td>10</td>\n",
       "    </tr>\n",
       "    <tr>\n",
       "      <th>32</th>\n",
       "      <td>Soul Kitchen</td>\n",
       "      <td>The Doors</td>\n",
       "      <td>10</td>\n",
       "    </tr>\n",
       "    <tr>\n",
       "      <th>33</th>\n",
       "      <td>Us And Them</td>\n",
       "      <td>Dark Side Of The Moon</td>\n",
       "      <td>10</td>\n",
       "    </tr>\n",
       "  </tbody>\n",
       "</table>\n",
       "</div>"
      ],
      "text/plain": [
       "                                    track_name  \\\n",
       "0                                     War Pigs   \n",
       "1                         Are You Experienced?   \n",
       "2                                      Changes   \n",
       "3                                Highway Chile   \n",
       "4                                      Hey Joe   \n",
       "5                        Put The Finger On You   \n",
       "6                     Third Stone From The Sun   \n",
       "7                                    Drain You   \n",
       "8                            Love Or Confusion   \n",
       "9                                  Radio/Video   \n",
       "10                        We Are The Champions   \n",
       "11                            51st Anniversary   \n",
       "12                             Dead And Broken   \n",
       "13                                   Foxy Lady   \n",
       "14                             I Can't Explain   \n",
       "15                            May This Be Love   \n",
       "16                        Old School Hollywood   \n",
       "17                                    Remember   \n",
       "18                                  Stone Free   \n",
       "19                            We Will Rock You   \n",
       "20                         Any Colour You Like   \n",
       "21                              Can You See Me   \n",
       "22                                    Faceless   \n",
       "23                          I Don't Live Today   \n",
       "24                                 Last Chance   \n",
       "25                                     Lithium   \n",
       "26  Message in a Bottle (new classic rock mix)   \n",
       "27                    Night Of The Long Knives   \n",
       "28                                 Purple Haze   \n",
       "29                                   Question!   \n",
       "30                                    Re-Align   \n",
       "31                                    Slowness   \n",
       "32                                Soul Kitchen   \n",
       "33                                 Us And Them   \n",
       "\n",
       "                                           album_name  num_sold  \n",
       "0                          Cake: B-Sides and Rarities        33  \n",
       "1                                Are You Experienced?        14  \n",
       "2                                            Faceless        14  \n",
       "3                                Are You Experienced?        14  \n",
       "4                                Are You Experienced?        13  \n",
       "5               For Those About To Rock We Salute You        13  \n",
       "6                                Are You Experienced?        13  \n",
       "7                                           Nevermind        12  \n",
       "8                                Are You Experienced?        12  \n",
       "9                                           Mezmerize        12  \n",
       "10                                  News Of The World        12  \n",
       "11                               Are You Experienced?        11  \n",
       "12                                           Faceless        11  \n",
       "13                               Are You Experienced?        11  \n",
       "14  20th Century Masters - The Millennium Collecti...        11  \n",
       "15                               Are You Experienced?        11  \n",
       "16                                          Mezmerize        11  \n",
       "17                               Are You Experienced?        11  \n",
       "18                               Are You Experienced?        11  \n",
       "19                                  News Of The World        11  \n",
       "20                              Dark Side Of The Moon        10  \n",
       "21                               Are You Experienced?        10  \n",
       "22                                           Faceless        10  \n",
       "23                               Are You Experienced?        10  \n",
       "24                                           Get Born        10  \n",
       "25                                          Nevermind        10  \n",
       "26                           The Police Greatest Hits        10  \n",
       "27              For Those About To Rock We Salute You        10  \n",
       "28                               Are You Experienced?        10  \n",
       "29                                          Mezmerize        10  \n",
       "30                                           Faceless        10  \n",
       "31              Carried to Dust (Bonus Track Version)        10  \n",
       "32                                          The Doors        10  \n",
       "33                              Dark Side Of The Moon        10  "
      ]
     },
     "execution_count": 23,
     "metadata": {},
     "output_type": "execute_result"
    }
   ],
   "source": [
    "# Find top 2% of the most saleble tracks in the store\n",
    "\n",
    "most_saleable_tracks = '''\n",
    "WITH track_invline AS\n",
    "    (\n",
    "    SELECT\n",
    "        tr.name track_name,\n",
    "        ab.title album_name,\n",
    "        COUNT(il.track_id) num_sold\n",
    "\n",
    "    FROM track tr\n",
    "    INNER JOIN invoice_line il ON il.track_id = tr.track_id\n",
    "    INNER JOIN album ab ON tr.album_id = ab.album_id\n",
    "    GROUP BY 1\n",
    "    )\n",
    "    \n",
    "SELECT * FROM track_invline\n",
    "ORDER BY num_sold DESC\n",
    "LIMIT (SELECT CAST(ROUND(COUNT(*) * 2 / 100) AS INTEGER)\n",
    "       FROM track_invline);\n",
    "'''\n",
    "    \n",
    "run_query(most_saleable_tracks)"
   ]
  },
  {
   "cell_type": "raw",
   "metadata": {},
   "source": [
    "The top 33 tracks listed in the table above are amongst the top 2% of the most saleable tracks out of the stockpile in the store. "
   ]
  },
  {
   "cell_type": "markdown",
   "metadata": {},
   "source": [
    "### Effect of Protected vs. Non-Protected Media on Popularity"
   ]
  },
  {
   "cell_type": "code",
   "execution_count": 24,
   "metadata": {
    "collapsed": false
   },
   "outputs": [
    {
     "data": {
      "text/html": [
       "<style  type=\"text/css\" >\n",
       "    #T_63d3ee1e_a392_11e8_9691_0242ac110055row0_col3 {\n",
       "            color:  khaki;\n",
       "            background-color:  khaki;\n",
       "        }    #T_63d3ee1e_a392_11e8_9691_0242ac110055row1_col3 {\n",
       "            color:  lime;\n",
       "            background-color:  lime;\n",
       "        }    #T_63d3ee1e_a392_11e8_9691_0242ac110055row2_col3 {\n",
       "            color:  navy;\n",
       "            background-color:  navy;\n",
       "        }    #T_63d3ee1e_a392_11e8_9691_0242ac110055row3_col3 {\n",
       "            color:  orchid;\n",
       "            background-color:  orchid;\n",
       "        }    #T_63d3ee1e_a392_11e8_9691_0242ac110055row4_col3 {\n",
       "            color:  teal;\n",
       "            background-color:  teal;\n",
       "        }</style>  \n",
       "<table id=\"T_63d3ee1e_a392_11e8_9691_0242ac110055\" > \n",
       "<thead>    <tr> \n",
       "        <th class=\"blank level0\" ></th> \n",
       "        <th class=\"col_heading level0 col0\" >media_type</th> \n",
       "        <th class=\"col_heading level0 col1\" >num_sold</th> \n",
       "        <th class=\"col_heading level0 col2\" >percent</th> \n",
       "        <th class=\"col_heading level0 col3\" >legend</th> \n",
       "    </tr></thead> \n",
       "<tbody>    <tr> \n",
       "        <th id=\"T_63d3ee1e_a392_11e8_9691_0242ac110055level0_row0\" class=\"row_heading level0 row0\" >0</th> \n",
       "        <td id=\"T_63d3ee1e_a392_11e8_9691_0242ac110055row0_col0\" class=\"data row0 col0\" >MPEG audio file</td> \n",
       "        <td id=\"T_63d3ee1e_a392_11e8_9691_0242ac110055row0_col1\" class=\"data row0 col1\" >4259</td> \n",
       "        <td id=\"T_63d3ee1e_a392_11e8_9691_0242ac110055row0_col2\" class=\"data row0 col2\" >89.5312</td> \n",
       "        <td id=\"T_63d3ee1e_a392_11e8_9691_0242ac110055row0_col3\" class=\"data row0 col3\" >0</td> \n",
       "    </tr>    <tr> \n",
       "        <th id=\"T_63d3ee1e_a392_11e8_9691_0242ac110055level0_row1\" class=\"row_heading level0 row1\" >1</th> \n",
       "        <td id=\"T_63d3ee1e_a392_11e8_9691_0242ac110055row1_col0\" class=\"data row1 col0\" >Protected AAC audio file</td> \n",
       "        <td id=\"T_63d3ee1e_a392_11e8_9691_0242ac110055row1_col1\" class=\"data row1 col1\" >439</td> \n",
       "        <td id=\"T_63d3ee1e_a392_11e8_9691_0242ac110055row1_col2\" class=\"data row1 col2\" >9.22851</td> \n",
       "        <td id=\"T_63d3ee1e_a392_11e8_9691_0242ac110055row1_col3\" class=\"data row1 col3\" >1</td> \n",
       "    </tr>    <tr> \n",
       "        <th id=\"T_63d3ee1e_a392_11e8_9691_0242ac110055level0_row2\" class=\"row_heading level0 row2\" >2</th> \n",
       "        <td id=\"T_63d3ee1e_a392_11e8_9691_0242ac110055row2_col0\" class=\"data row2 col0\" >Purchased AAC audio file</td> \n",
       "        <td id=\"T_63d3ee1e_a392_11e8_9691_0242ac110055row2_col1\" class=\"data row2 col1\" >35</td> \n",
       "        <td id=\"T_63d3ee1e_a392_11e8_9691_0242ac110055row2_col2\" class=\"data row2 col2\" >0.735758</td> \n",
       "        <td id=\"T_63d3ee1e_a392_11e8_9691_0242ac110055row2_col3\" class=\"data row2 col3\" >2</td> \n",
       "    </tr>    <tr> \n",
       "        <th id=\"T_63d3ee1e_a392_11e8_9691_0242ac110055level0_row3\" class=\"row_heading level0 row3\" >3</th> \n",
       "        <td id=\"T_63d3ee1e_a392_11e8_9691_0242ac110055row3_col0\" class=\"data row3 col0\" >AAC audio file</td> \n",
       "        <td id=\"T_63d3ee1e_a392_11e8_9691_0242ac110055row3_col1\" class=\"data row3 col1\" >21</td> \n",
       "        <td id=\"T_63d3ee1e_a392_11e8_9691_0242ac110055row3_col2\" class=\"data row3 col2\" >0.441455</td> \n",
       "        <td id=\"T_63d3ee1e_a392_11e8_9691_0242ac110055row3_col3\" class=\"data row3 col3\" >3</td> \n",
       "    </tr>    <tr> \n",
       "        <th id=\"T_63d3ee1e_a392_11e8_9691_0242ac110055level0_row4\" class=\"row_heading level0 row4\" >4</th> \n",
       "        <td id=\"T_63d3ee1e_a392_11e8_9691_0242ac110055row4_col0\" class=\"data row4 col0\" >Protected MPEG-4 video file</td> \n",
       "        <td id=\"T_63d3ee1e_a392_11e8_9691_0242ac110055row4_col1\" class=\"data row4 col1\" >3</td> \n",
       "        <td id=\"T_63d3ee1e_a392_11e8_9691_0242ac110055row4_col2\" class=\"data row4 col2\" >0.063065</td> \n",
       "        <td id=\"T_63d3ee1e_a392_11e8_9691_0242ac110055row4_col3\" class=\"data row4 col3\" >4</td> \n",
       "    </tr></tbody> \n",
       "</table> "
      ],
      "text/plain": [
       "<pandas.io.formats.style.Styler at 0x7f60ffa549b0>"
      ]
     },
     "execution_count": 24,
     "metadata": {},
     "output_type": "execute_result"
    },
    {
     "data": {
      "image/png": "[encoded data removed]",
      "text/plain": [
       "<matplotlib.figure.Figure at 0x7f60ffe4c630>"
      ]
     },
     "metadata": {},
     "output_type": "display_data"
    }
   ],
   "source": [
    "# Identify media type mix in the top 2% most saleble tracks in the store\n",
    "\n",
    "media_type_impact = '''\n",
    "WITH track_inv_media AS\n",
    "    (\n",
    "    SELECT\n",
    "        mt.name media_type,\n",
    "        COUNT(il.track_id) num_sold,\n",
    "        CAST(COUNT(il.track_id) AS FLOAT) * 100 / (SELECT COUNT(*) FROM invoice_line) percent\n",
    "\n",
    "    FROM track tr\n",
    "    INNER JOIN invoice_line il ON il.track_id = tr.track_id\n",
    "    INNER JOIN media_type mt ON tr.media_type_id = mt.media_type_id\n",
    "    GROUP BY 1\n",
    "    )\n",
    "    \n",
    "SELECT * FROM track_inv_media\n",
    "ORDER BY num_sold DESC\n",
    "LIMIT 10;\n",
    "'''\n",
    "\n",
    "media_impact = run_query(media_type_impact)\n",
    "\n",
    "# Develop tabular result\n",
    "\n",
    "def color_val(num):\n",
    "    color_val = color_spec[num]\n",
    "    return 'background-color: %s' % color_val\n",
    "\n",
    "def color_font(num):\n",
    "    color_val = color_spec[num]\n",
    "    return 'color: %s' % color_val\n",
    "\n",
    "## Introducing color spectrum and legend in the dataframe\n",
    "color_spec = ['khaki', 'lime', 'navy', 'orchid', 'teal']\n",
    "header_list = ['media_type', 'num_sold', 'percent', 'legend']\n",
    "media_impact = media_impact.reindex(columns=header_list)\n",
    "media_impact['legend'] = [i for i in range(5)]\n",
    "\n",
    "# Develop Pie Chart\n",
    "media_impact['percent'].plot.pie(colors=color_spec, startangle=180, shadow=True, \n",
    "        autopct='%1.1f%%', pctdistance=0.8)\n",
    "plt.axis('equal')\n",
    "\n",
    "# Print the combined results\n",
    "media_impact.style.applymap(color_font, subset=['legend']).applymap(color_val, subset=['legend'])"
   ]
  },
  {
   "cell_type": "raw",
   "metadata": {},
   "source": [
    "The non-protected media types (MPEG & non-purchased AAC) covers almost 90% of the market share against the protected media with just around 9%. Clearly the non-protected media has significant effect on music popularity. "
   ]
  }
 ],
 "metadata": {
  "kernelspec": {
   "display_name": "Python 3",
   "language": "python",
   "name": "python3"
  },
  "language_info": {
   "codemirror_mode": {
    "name": "ipython",
    "version": 3
   },
   "file_extension": ".py",
   "mimetype": "text/x-python",
   "name": "python",
   "nbconvert_exporter": "python",
   "pygments_lexer": "ipython3",
   "version": "3.4.3"
  }
 },
 "nbformat": 4,
 "nbformat_minor": 2
}
